{
 "cells": [
  {
   "cell_type": "code",
   "execution_count": 2,
   "metadata": {
    "collapsed": true
   },
   "outputs": [],
   "source": [
    "import numpy as np\n",
    "import os\n",
    "import skimage\n",
    "import matplotlib.pyplot as plt"
   ]
  },
  {
   "cell_type": "code",
   "execution_count": 3,
   "metadata": {
    "collapsed": true
   },
   "outputs": [],
   "source": [
    "def DigitizeImage(X, nPixels):\n",
    "    height = np.size(X,0)\n",
    "    width = np.size(X,1)\n",
    "    pixel_size = np.floor(min(width/nPixels, height/nPixels))\n",
    "    \n",
    "    if(pixel_size > height or pixel_size > width):\n",
    "        X_digitized = X.copy()\n",
    "        X_digitized[0:height, 0:width] = np.mean(X)\n",
    "        print(\"Warning nPixels is greater than base image resolution\")\n",
    "        return X_digitized\n",
    "    nSteps_w = int(1 + width / pixel_size)\n",
    "    nSteps_h = int(1 + height / pixel_size)\n",
    "    \n",
    "    X_digitized = X.copy()\n",
    "    \n",
    "    \n",
    "    for i in range(nSteps_h):\n",
    "        for j in range(nSteps_w):\n",
    "            start_i = int(i * pixel_size)\n",
    "            start_j = int(j * pixel_size)\n",
    "            \n",
    "            stop_i = min(int((i+1) * pixel_size), height)\n",
    "            stop_j = min(int((j+1) * pixel_size), width)\n",
    "            \n",
    "            X_digitized[start_i:stop_i, start_j:stop_j] = np.mean(X[start_i:stop_i, start_j:stop_j])\n",
    "    return X_digitized"
   ]
  },
  {
   "cell_type": "code",
   "execution_count": 4,
   "metadata": {
    "collapsed": true
   },
   "outputs": [],
   "source": [
    "# Calculate the Cross Entropy of P with respect to Q\n",
    "def CrossEntropy(P, Q):\n",
    "    P = np.ndarray.flatten(P)\n",
    "    Q = np.ndarray.flatten(Q)\n",
    "    epsilon = 0.00000001\n",
    "    xEntropy = 0.0\n",
    "    for i in range(len(P)):\n",
    "        if(Q[i] == 0):\n",
    "            xEntropy -= P[i] * np.log2(epsilon)\n",
    "        else:\n",
    "            xEntropy -= P[i]* np.log2(Q[i])\n",
    "    return xEntropy\n",
    "        "
   ]
  },
  {
   "cell_type": "code",
   "execution_count": 5,
   "metadata": {
    "collapsed": true
   },
   "outputs": [],
   "source": [
    "#Calculate percentage overlap between two images (Assumes same size)\n",
    "def PercentOverlap(X1, X2):\n",
    "    X_diff = np.abs(np.subtract(X1, X2))\n",
    "    return np.mean(X_diff)"
   ]
  },
  {
   "cell_type": "code",
   "execution_count": 6,
   "metadata": {
    "collapsed": true
   },
   "outputs": [],
   "source": [
    "# Load High Resolution Font\n",
    "def LoadGlyph(filename):\n",
    "    fdir = os.getcwd() + \"/Glyphs/\"\n",
    "    img = skimage.io.imread(fdir + filename)\n",
    "    img_bw = skimage.color.colorconv.rgb2gray(img)\n",
    "    img_matrix = np.asarray(img_bw.data)\n",
    "    return img_matrix\n"
   ]
  },
  {
   "cell_type": "code",
   "execution_count": 7,
   "metadata": {
    "collapsed": false
   },
   "outputs": [
    {
     "ename": "AttributeError",
     "evalue": "'module' object has no attribute 'io'",
     "output_type": "error",
     "traceback": [
      "\u001b[0;31m---------------------------------------------------------------------------\u001b[0m",
      "\u001b[0;31mAttributeError\u001b[0m                            Traceback (most recent call last)",
      "\u001b[0;32m<ipython-input-7-4143ee55b436>\u001b[0m in \u001b[0;36m<module>\u001b[0;34m()\u001b[0m\n\u001b[0;32m----> 1\u001b[0;31m \u001b[0mX\u001b[0m \u001b[0;34m=\u001b[0m \u001b[0mLoadGlyph\u001b[0m\u001b[0;34m(\u001b[0m\u001b[0;34m'GoogleSans_A.png'\u001b[0m\u001b[0;34m)\u001b[0m\u001b[0;34m\u001b[0m\u001b[0m\n\u001b[0m\u001b[1;32m      2\u001b[0m \u001b[0mX_digitized\u001b[0m \u001b[0;34m=\u001b[0m \u001b[0mDigitizeImage\u001b[0m\u001b[0;34m(\u001b[0m\u001b[0mX\u001b[0m\u001b[0;34m,\u001b[0m \u001b[0;36m10\u001b[0m\u001b[0;34m)\u001b[0m\u001b[0;34m\u001b[0m\u001b[0m\n\u001b[1;32m      3\u001b[0m \u001b[0mskimage\u001b[0m\u001b[0;34m.\u001b[0m\u001b[0mio\u001b[0m\u001b[0;34m.\u001b[0m\u001b[0mimshow\u001b[0m\u001b[0;34m(\u001b[0m\u001b[0mX_digitized\u001b[0m\u001b[0;34m)\u001b[0m\u001b[0;34m\u001b[0m\u001b[0m\n",
      "\u001b[0;32m<ipython-input-6-a240bc43e5a0>\u001b[0m in \u001b[0;36mLoadGlyph\u001b[0;34m(filename)\u001b[0m\n\u001b[1;32m      2\u001b[0m \u001b[0;32mdef\u001b[0m \u001b[0mLoadGlyph\u001b[0m\u001b[0;34m(\u001b[0m\u001b[0mfilename\u001b[0m\u001b[0;34m)\u001b[0m\u001b[0;34m:\u001b[0m\u001b[0;34m\u001b[0m\u001b[0m\n\u001b[1;32m      3\u001b[0m     \u001b[0mfdir\u001b[0m \u001b[0;34m=\u001b[0m \u001b[0mos\u001b[0m\u001b[0;34m.\u001b[0m\u001b[0mgetcwd\u001b[0m\u001b[0;34m(\u001b[0m\u001b[0;34m)\u001b[0m \u001b[0;34m+\u001b[0m \u001b[0;34m\"/Glyphs/\"\u001b[0m\u001b[0;34m\u001b[0m\u001b[0m\n\u001b[0;32m----> 4\u001b[0;31m     \u001b[0mimg\u001b[0m \u001b[0;34m=\u001b[0m \u001b[0mskimage\u001b[0m\u001b[0;34m.\u001b[0m\u001b[0mio\u001b[0m\u001b[0;34m.\u001b[0m\u001b[0mimread\u001b[0m\u001b[0;34m(\u001b[0m\u001b[0mfdir\u001b[0m \u001b[0;34m+\u001b[0m \u001b[0mfilename\u001b[0m\u001b[0;34m)\u001b[0m\u001b[0;34m\u001b[0m\u001b[0m\n\u001b[0m\u001b[1;32m      5\u001b[0m     \u001b[0mimg_bw\u001b[0m \u001b[0;34m=\u001b[0m \u001b[0mskimage\u001b[0m\u001b[0;34m.\u001b[0m\u001b[0mcolor\u001b[0m\u001b[0;34m.\u001b[0m\u001b[0mcolorconv\u001b[0m\u001b[0;34m.\u001b[0m\u001b[0mrgb2gray\u001b[0m\u001b[0;34m(\u001b[0m\u001b[0mimg\u001b[0m\u001b[0;34m)\u001b[0m\u001b[0;34m\u001b[0m\u001b[0m\n\u001b[1;32m      6\u001b[0m     \u001b[0mimg_matrix\u001b[0m \u001b[0;34m=\u001b[0m \u001b[0mnp\u001b[0m\u001b[0;34m.\u001b[0m\u001b[0masarray\u001b[0m\u001b[0;34m(\u001b[0m\u001b[0mimg_bw\u001b[0m\u001b[0;34m.\u001b[0m\u001b[0mdata\u001b[0m\u001b[0;34m)\u001b[0m\u001b[0;34m\u001b[0m\u001b[0m\n",
      "\u001b[0;31mAttributeError\u001b[0m: 'module' object has no attribute 'io'"
     ]
    }
   ],
   "source": [
    "filenames = ['GoogleSans_A.png', 'Dao.png']\n",
    "X = LoadGlyph(filenames[0])\n",
    "X_digitized = DigitizeImage(X, 10)\n",
    "skimage.io.imshow(X_digitized)\n"
   ]
  },
  {
   "cell_type": "code",
   "execution_count": null,
   "metadata": {
    "collapsed": false
   },
   "outputs": [
    {
     "name": "stderr",
     "output_type": "stream",
     "text": [
      "/anaconda3/lib/python3.7/site-packages/numpy/core/fromnumeric.py:2920: RuntimeWarning: Mean of empty slice.\n",
      "  out=out, **kwargs)\n",
      "/anaconda3/lib/python3.7/site-packages/numpy/core/_methods.py:85: RuntimeWarning: invalid value encountered in double_scalars\n",
      "  ret = ret.dtype.type(ret / rcount)\n"
     ]
    }
   ],
   "source": [
    "nPixels = [5, 10, 20, 40, 80, 160, 320, 640, 1280]\n",
    "digitizer_XEntropy = [0] * len(nPixels)\n",
    "percent_overlap = [0] * len(nPixels)\n",
    "for i in range(len(nPixels)):\n",
    "    X_digitized = DigitizeImage(X, nPixels[i])\n",
    "    digitizer_XEntropy[i] = CrossEntropy(X_digitized, X)\n",
    "    percent_overlap[i] = PercentOverlap(X_digitized, X)\n"
   ]
  },
  {
   "cell_type": "code",
   "execution_count": null,
   "metadata": {
    "collapsed": true
   },
   "outputs": [],
   "source": [
    "plt.plot(nPixels, digitizer_XEntropy, 'rx')\n",
    "plt.plot(nPixels, percent_overlap, 'bx')"
   ]
  },
  {
   "cell_type": "code",
   "execution_count": 34,
   "metadata": {
    "collapsed": false
   },
   "outputs": [
    {
     "name": "stdout",
     "output_type": "stream",
     "text": [
      "[[2 2 2 2]\n",
      " [2 2 2 2]\n",
      " [2 2 2 2]\n",
      " [2 2 2 2]]\n"
     ]
    }
   ],
   "source": [
    "plt.plot(digitizer_XEntropy, percent_overlap, 'rx')\n",
    "plt.xlabel(\"Cross Entropy\")\n",
    "plt.ylabel(\"Percent Overlap\")\n",
    "plt.title(\"Comparison of Cross Entropy and Overlap Metrics\")"
   ]
  },
  {
   "cell_type": "code",
   "execution_count": null,
   "metadata": {
    "collapsed": true
   },
   "outputs": [],
   "source": []
  }
 ],
 "metadata": {
  "kernelspec": {
   "display_name": "Python 2",
   "language": "python",
   "name": "python2"
  },
  "language_info": {
   "codemirror_mode": {
    "name": "ipython",
    "version": 2
   },
   "file_extension": ".py",
   "mimetype": "text/x-python",
   "name": "python",
   "nbconvert_exporter": "python",
   "pygments_lexer": "ipython2",
   "version": "2.7.15"
  }
 },
 "nbformat": 4,
 "nbformat_minor": 2
}
