{
 "cells": [
  {
   "cell_type": "code",
   "execution_count": 1,
   "metadata": {},
   "outputs": [],
   "source": [
    "import numpy as np\n",
    "import os\n",
    "import skimage\n",
    "import matplotlib.pyplot as plt"
   ]
  },
  {
   "cell_type": "code",
   "execution_count": 2,
   "metadata": {},
   "outputs": [],
   "source": [
    "def DigitizeImage(X, nPixels):\n",
    "    height = np.size(X,0)\n",
    "    width = np.size(X,1)\n",
    "    pixel_size = np.floor(min(width/nPixels, height/nPixels))\n",
    "    \n",
    "    if(pixel_size > height or pixel_size > width):\n",
    "        X_digitized = X.copy()\n",
    "        X_digitized[0:height, 0:width] = np.mean(X)\n",
    "        print(\"Warning nPixels is greater than base image resolution\")\n",
    "        return X_digitized\n",
    "    nSteps_w = int(1 + width / pixel_size)\n",
    "    nSteps_h = int(1 + height / pixel_size)\n",
    "    \n",
    "    X_digitized = X.copy()\n",
    "    \n",
    "    \n",
    "    for i in range(nSteps_h):\n",
    "        for j in range(nSteps_w):\n",
    "            start_i = int(i * pixel_size)\n",
    "            start_j = int(j * pixel_size)\n",
    "            \n",
    "            stop_i = min(int((i+1) * pixel_size), height)\n",
    "            stop_j = min(int((j+1) * pixel_size), width)\n",
    "            \n",
    "            X_digitized[start_i:stop_i, start_j:stop_j] = np.mean(X[start_i:stop_i, start_j:stop_j])\n",
    "    return X_digitized"
   ]
  },
  {
   "cell_type": "code",
   "execution_count": 3,
   "metadata": {},
   "outputs": [],
   "source": [
    "# Calculate the Cross Entropy of P with respect to Q\n",
    "def CrossEntropy(P, Q):\n",
    "    P = np.ndarray.flatten(P)\n",
    "    Q = np.ndarray.flatten(Q)\n",
    "    epsilon = 0.00000001\n",
    "    xEntropy = 0.0\n",
    "    for i in range(len(P)):\n",
    "        if(Q[i] == 0):\n",
    "            xEntropy -= P[i] * np.log2(epsilon)\n",
    "        else:\n",
    "            xEntropy -= P[i]* np.log2(Q[i])\n",
    "    return xEntropy\n",
    "        "
   ]
  },
  {
   "cell_type": "code",
   "execution_count": 4,
   "metadata": {},
   "outputs": [],
   "source": [
    "#Calculate percentage overlap between two images (Assumes same size)\n",
    "def PercentOverlap(X1, X2):\n",
    "    X_diff = np.abs(np.subtract(X1, X2))\n",
    "    return np.mean(X_diff)"
   ]
  },
  {
   "cell_type": "code",
   "execution_count": 41,
   "metadata": {},
   "outputs": [],
   "source": [
    "# Load High Resolution Font\n",
    "def LoadGlyph(filename):\n",
    "    fdir = os.getcwd() + \"/Glyphs/\"\n",
    "    img = skimage.io.imread(fdir + filename)\n",
    "    img_bw = skimage.color.colorconv.rgb2gray(img)\n",
    "    img_matrix = np.asarray(img_bw.data)\n",
    "    img_binarized = 1.0*(img_matrix > skimage.filters.threshold_otsu(img_matrix))\n",
    "    return img_binarized\n"
   ]
  },
  {
   "cell_type": "code",
   "execution_count": 51,
   "metadata": {},
   "outputs": [],
   "source": [
    "class Glyph:\n",
    "    name = \"\"\n",
    "    image = []\n",
    "    nPixels = []\n",
    "    digitizer_XEntropy = []\n",
    "    percent_overlap = []\n",
    "    \n",
    "    def __init__(self, name, image):\n",
    "        self.image = image\n",
    "        self.name = name"
   ]
  },
  {
   "cell_type": "code",
   "execution_count": 58,
   "metadata": {},
   "outputs": [
    {
     "data": {
      "image/png": "[encoded data removed]",
      "text/plain": [
       "<Figure size 432x288 with 1 Axes>"
      ]
     },
     "metadata": {
      "needs_background": "light"
     },
     "output_type": "display_data"
    }
   ],
   "source": [
    "filenames = ['GoogleSans_A.png', 'Dao.png']\n",
    "glyphs = []\n",
    "for f in filenames:\n",
    "    X = LoadGlyph(f)\n",
    "    X_digitized = DigitizeImage(X, 10)\n",
    "    skimage.io.imshow(X)\n",
    "    g = Glyph(f.split('.')[0], X)\n",
    "    glyphs.append(g)\n",
    "    skimage.io.imshow(X_digitized)\n"
   ]
  },
  {
   "cell_type": "code",
   "execution_count": 59,
   "metadata": {},
   "outputs": [
    {
     "name": "stderr",
     "output_type": "stream",
     "text": [
      "/anaconda3/lib/python3.7/site-packages/numpy/core/fromnumeric.py:2920: RuntimeWarning: Mean of empty slice.\n",
      "  out=out, **kwargs)\n",
      "/anaconda3/lib/python3.7/site-packages/numpy/core/_methods.py:85: RuntimeWarning: invalid value encountered in double_scalars\n",
      "  ret = ret.dtype.type(ret / rcount)\n"
     ]
    }
   ],
   "source": [
    "for g in glyphs:\n",
    "    g.nPixels = [5, 10, 20, 40, 80, 160, 320] #, 640, 1280]\n",
    "    g.digitizer_XEntropy = [0] * len(nPixels)\n",
    "    g.percent_overlap = [0] * len(nPixels)\n",
    "    for i in range(len(g.nPixels)):\n",
    "        X_digitized = DigitizeImage(g.image, g.nPixels[i])\n",
    "        g.digitizer_XEntropy[i] = CrossEntropy(X_digitized, g.image)\n",
    "        g.percent_overlap[i] = PercentOverlap(X_digitized, g.image)\n"
   ]
  },
  {
   "cell_type": "code",
   "execution_count": 61,
   "metadata": {},
   "outputs": [
    {
     "data": {
      "text/plain": [
       "<matplotlib.legend.Legend at 0x1c1a05e588>"
      ]
     },
     "execution_count": 61,
     "metadata": {},
     "output_type": "execute_result"
    },
    {
     "data": {
      "image/png": "[encoded data removed]",
      "text/plain": [
       "<Figure size 432x288 with 1 Axes>"
      ]
     },
     "metadata": {
      "needs_background": "light"
     },
     "output_type": "display_data"
    }
   ],
   "source": [
    "markers = ['bx', 'rx']\n",
    "for i, g in enumerate(glyphs):\n",
    "    plt.plot(g.nPixels, g.percent_overlap, markers[i])\n",
    "plt.xlabel(\"nPixels\")\n",
    "plt.ylabel(\"Percent Overlap\")\n",
    "plt.title('Comparison of Image Degredation for Various Glyphs')\n",
    "plt.legend([g.name for g in glyphs])"
   ]
  },
  {
   "cell_type": "code",
   "execution_count": 62,
   "metadata": {},
   "outputs": [
    {
     "data": {
      "text/plain": [
       "Text(0.5, 1.0, 'Comparison of Cross Entropy and Overlap Metricsr = 1.0')"
      ]
     },
     "execution_count": 62,
     "metadata": {},
     "output_type": "execute_result"
    },
    {
     "data": {
      "image/png": "[encoded data removed]",
      "text/plain": [
       "<Figure size 432x288 with 1 Axes>"
      ]
     },
     "metadata": {
      "needs_background": "light"
     },
     "output_type": "display_data"
    }
   ],
   "source": [
    "plt.plot(glyphs[0].digitizer_XEntropy, glyphs[0].percent_overlap, 'rx')\n",
    "plt.xlabel(\"Cross Entropy\")\n",
    "plt.ylabel(\"Percent Overlap\")\n",
    "\n",
    "r = np.dot(percent_overlap, digitizer_XEntropy)/(np.linalg.norm(percent_overlap) * np.linalg.norm(digitizer_XEntropy))\n",
    "plt.title(\"Comparison of Cross Entropy and Overlap Metrics\" + \"r = \" + str(np.round(r,5)))"
   ]
  },
  {
   "cell_type": "code",
   "execution_count": null,
   "metadata": {},
   "outputs": [],
   "source": []
  },
  {
   "cell_type": "code",
   "execution_count": 14,
   "metadata": {},
   "outputs": [
    {
     "data": {
      "text/plain": [
       "0.9999833043927099"
      ]
     },
     "execution_count": 14,
     "metadata": {},
     "output_type": "execute_result"
    }
   ],
   "source": [
    "tmp"
   ]
  },
  {
   "cell_type": "code",
   "execution_count": null,
   "metadata": {},
   "outputs": [],
   "source": [
    "|"
   ]
  }
 ],
 "metadata": {
  "kernelspec": {
   "display_name": "Python 3",
   "language": "python",
   "name": "python3"
  },
  "language_info": {
   "codemirror_mode": {
    "name": "ipython",
    "version": 3
   },
   "file_extension": ".py",
   "mimetype": "text/x-python",
   "name": "python",
   "nbconvert_exporter": "python",
   "pygments_lexer": "ipython3",
   "version": "3.7.1"
  }
 },
 "nbformat": 4,
 "nbformat_minor": 2
}
