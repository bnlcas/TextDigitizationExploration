{
 "cells": [
  {
   "cell_type": "code",
   "execution_count": 4,
   "metadata": {},
   "outputs": [],
   "source": [
    "import numpy as np\n",
    "import os\n",
    "import skimage\n",
    "import matplotlib.pyplot as plt"
   ]
  },
  {
   "cell_type": "code",
   "execution_count": 35,
   "metadata": {},
   "outputs": [],
   "source": [
    "def DigitizeImage(X, nPixels):\n",
    "    height = np.size(X,0)\n",
    "    width = np.size(X,1)\n",
    "    pixel_size = np.floor(min(width/nPixels, height/nPixels))\n",
    "    \n",
    "    if(pixel_size > height or pixel_size > width):\n",
    "        X_digitized = X.copy()\n",
    "        X_digitized[0:height, 0:width] = np.mean(X)\n",
    "        print(\"Warning nPixels is greater than base image resolution\")\n",
    "        return X_digitized\n",
    "    nSteps_w = int(1 + width / pixel_size)\n",
    "    nSteps_h = int(1 + height / pixel_size)\n",
    "    \n",
    "    X_digitized = X.copy()\n",
    "    \n",
    "    \n",
    "    for i in range(nSteps_h):\n",
    "        for j in range(nSteps_w):\n",
    "            start_i = int(i * pixel_size)\n",
    "            start_j = int(j * pixel_size)\n",
    "            \n",
    "            stop_i = min(int((i+1) * pixel_size), height)\n",
    "            stop_j = min(int((j+1) * pixel_size), width)\n",
    "            \n",
    "            X_digitized[start_i:stop_i, start_j:stop_j] = np.mean(X[start_i:stop_i, start_j:stop_j])\n",
    "    return X_digitized"
   ]
  },
  {
   "cell_type": "code",
   "execution_count": 6,
   "metadata": {},
   "outputs": [],
   "source": [
    "def CrossEntropy(P, Q):\n",
    "    P = np.ndarray.flatten(P)\n",
    "    Q = np.ndarray.flatten(Q)\n",
    "    epsilon = 0.00000001\n",
    "    xEntropy = 0.0\n",
    "    for i in range(len(P)):\n",
    "        if(Q[i] == 0):\n",
    "            xEntropy -= P[i] * np.log2(epsilon)\n",
    "        else:\n",
    "            xEntropy -= P[i]* np.log2(Q[i])\n",
    "    return xEntropy\n",
    "        "
   ]
  },
  {
   "cell_type": "code",
   "execution_count": 37,
   "metadata": {},
   "outputs": [],
   "source": [
    "def PercentOverlap(X1, X2):\n",
    "    X_diff = np.abs(np.subtract(X1, X2))\n",
    "    return np.mean(X_diff)"
   ]
  },
  {
   "cell_type": "code",
   "execution_count": 7,
   "metadata": {},
   "outputs": [],
   "source": [
    "# Load High Resolution Font\n",
    "fdir = os.getcwd() + \"/Glyphs/\"\n",
    "filename = 'GoogleSans_A.png'\n",
    "img = skimage.io.imread(fdir + filename)\n",
    "img_bw = skimage.color.colorconv.rgb2gray(img)"
   ]
  },
  {
   "cell_type": "code",
   "execution_count": 10,
   "metadata": {},
   "outputs": [
    {
     "data": {
      "text/plain": [
       "<matplotlib.image.AxesImage at 0x1c1dbb1ef0>"
      ]
     },
     "execution_count": 10,
     "metadata": {},
     "output_type": "execute_result"
    },
    {
     "data": {
      "image/png": "[encoded data removed]",
      "text/plain": [
       "<Figure size 432x288 with 1 Axes>"
      ]
     },
     "metadata": {
      "needs_background": "light"
     },
     "output_type": "display_data"
    }
   ],
   "source": [
    "X = np.asarray(img_bw.data)\n",
    "X_digitized = DigitizeImage(X, 10)\n",
    "skimage.io.imshow(X_digitized)\n"
   ]
  },
  {
   "cell_type": "code",
   "execution_count": null,
   "metadata": {},
   "outputs": [
    {
     "name": "stderr",
     "output_type": "stream",
     "text": [
      "/anaconda3/lib/python3.7/site-packages/numpy/core/fromnumeric.py:2920: RuntimeWarning: Mean of empty slice.\n",
      "  out=out, **kwargs)\n",
      "/anaconda3/lib/python3.7/site-packages/numpy/core/_methods.py:85: RuntimeWarning: invalid value encountered in double_scalars\n",
      "  ret = ret.dtype.type(ret / rcount)\n"
     ]
    }
   ],
   "source": [
    "X = np.asarray(img_bw.data)\n",
    "\n",
    "nPixels = [5, 10, 20, 40, 80, 160, 320, 640, 1280]\n",
    "digitizer_XEntropy = [0] * len(nPixels)\n",
    "percent_overlap = [0] * len(nPixels)\n",
    "for i in range(len(nPixels)):\n",
    "    X_digitized = DigitizeImage(X, nPixels[i])\n",
    "    digitizer_XEntropy[i] = CrossEntropy(X_digitized, X)\n",
    "    percent_overlap[i] = PercentOverlap(X_digitized, X)\n"
   ]
  },
  {
   "cell_type": "code",
   "execution_count": null,
   "metadata": {},
   "outputs": [],
   "source": [
    "plt.plot(nPixels, digitizer_XEntropy, 'rx')\n",
    "plt.plot(nPixels, percent_overlap, 'bx')"
   ]
  },
  {
   "cell_type": "code",
   "execution_count": 31,
   "metadata": {},
   "outputs": [
    {
     "data": {
      "text/plain": [
       "<matplotlib.image.AxesImage at 0x1c1bfab4e0>"
      ]
     },
     "execution_count": 31,
     "metadata": {},
     "output_type": "execute_result"
    },
    {
     "data": {
      "image/png": "[encoded data removed]",
      "text/plain": [
       "<Figure size 432x288 with 1 Axes>"
      ]
     },
     "metadata": {
      "needs_background": "light"
     },
     "output_type": "display_data"
    }
   ],
   "source": [
    "skimage.io.imshow(X_digitized)"
   ]
  },
  {
   "cell_type": "code",
   "execution_count": 28,
   "metadata": {},
   "outputs": [
    {
     "name": "stdout",
     "output_type": "stream",
     "text": [
      "1836\n"
     ]
    }
   ],
   "source": [
    "width = np.size(X,1)\n",
    "nPixels[-2]\n",
    "print(width)"
   ]
  },
  {
   "cell_type": "code",
   "execution_count": 34,
   "metadata": {},
   "outputs": [
    {
     "name": "stdout",
     "output_type": "stream",
     "text": [
      "[[2 2 2 2]\n",
      " [2 2 2 2]\n",
      " [2 2 2 2]\n",
      " [2 2 2 2]]\n"
     ]
    }
   ],
   "source": [
    "tmp = np.asarray([[1,2,3,4], [1,2,3,4], [1,2,3,4], [1,2,3,4]])\n",
    "tmp_2 = tmp.copy()\n",
    "tmp_2[0:4,0:4] = np.mean(tmp)\n",
    "print(tmp_2)"
   ]
  },
  {
   "cell_type": "code",
   "execution_count": null,
   "metadata": {},
   "outputs": [],
   "source": []
  }
 ],
 "metadata": {
  "kernelspec": {
   "display_name": "Python 3",
   "language": "python",
   "name": "python3"
  },
  "language_info": {
   "codemirror_mode": {
    "name": "ipython",
    "version": 3
   },
   "file_extension": ".py",
   "mimetype": "text/x-python",
   "name": "python",
   "nbconvert_exporter": "python",
   "pygments_lexer": "ipython3",
   "version": "3.7.1"
  }
 },
 "nbformat": 4,
 "nbformat_minor": 2
}
